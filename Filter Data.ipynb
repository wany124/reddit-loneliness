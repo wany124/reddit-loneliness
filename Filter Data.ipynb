{
 "cells": [
  {
   "cell_type": "code",
   "execution_count": 1,
   "metadata": {},
   "outputs": [],
   "source": [
    "import matplotlib.pyplot as plt\n",
    "import PIL\n",
    "import pandas as pd\n",
    "import numpy as np\n",
    "import calendar\n",
    "import time\n",
    "import requests\n",
    "import datetime\n",
    "\n",
    "pd.options.display.max_columns = 999\n",
    "pd.options.display.max_rows = 999"
   ]
  },
  {
   "cell_type": "code",
   "execution_count": 62,
   "metadata": {},
   "outputs": [
    {
     "data": {
      "text/plain": [
       "0          1632304023\n",
       "1          1632303572\n",
       "2          1632303287\n",
       "3          1632303182\n",
       "4          1632303106\n",
       "             ...     \n",
       "752384    1.29593e+09\n",
       "752385    1.29589e+09\n",
       "752386    1.29586e+09\n",
       "752387    1.29515e+09\n",
       "752388    1.29428e+09\n",
       "Name: created_utc, Length: 752382, dtype: object"
      ]
     },
     "execution_count": 62,
     "metadata": {},
     "output_type": "execute_result"
    }
   ],
   "source": [
    "df_lonely_com['created_utc']"
   ]
  },
  {
   "cell_type": "markdown",
   "metadata": {},
   "source": [
    "# Filter data"
   ]
  },
  {
   "cell_type": "code",
   "execution_count": 3,
   "metadata": {},
   "outputs": [
    {
     "name": "stderr",
     "output_type": "stream",
     "text": [
      "/Users/carolcheng/opt/anaconda3/lib/python3.7/site-packages/IPython/core/interactiveshell.py:3063: DtypeWarning: Columns (0,1,4,5,6,8,9,10,11,12,13,17,19,20,21,22,23,24,26,27,28,29,30,31,32,33,34,35,39,41,46,47,52,56,59,61,62,63,64,65,66,67,70,71,72,73,76,80,81,83,86,89,90,93,94,96,97,98) have mixed types.Specify dtype option on import or set low_memory=False.\n",
      "  interactivity=interactivity, compiler=compiler, result=result)\n",
      "/Users/carolcheng/opt/anaconda3/lib/python3.7/site-packages/IPython/core/interactiveshell.py:3063: DtypeWarning: Columns (0,1,4,6,7,8,9,10,11,12,13,17,19,20,21,22,23,24,25,26,28,29,30,31,32,33,36,37,39,44,45,46,50,54,57,59,60,61,62,63,64,65,66,69,74,75,76,78,79,81,83,84,85,86,87,89,90,91,92,94,97,98,99,100,102,103,104) have mixed types.Specify dtype option on import or set low_memory=False.\n",
      "  interactivity=interactivity, compiler=compiler, result=result)\n",
      "/Users/carolcheng/opt/anaconda3/lib/python3.7/site-packages/IPython/core/interactiveshell.py:3063: DtypeWarning: Columns (1,15,19,24,31,37,38,50,55,56,57) have mixed types.Specify dtype option on import or set low_memory=False.\n",
      "  interactivity=interactivity, compiler=compiler, result=result)\n",
      "/Users/carolcheng/opt/anaconda3/lib/python3.7/site-packages/IPython/core/interactiveshell.py:3063: DtypeWarning: Columns (0,1,4,6,7,8,9,10,12,13,15,16,17,18,19,20,22,23,24,25,26,28,30,31,33,36,37,38,41,42,45,46,47,50,55,56,57,58) have mixed types.Specify dtype option on import or set low_memory=False.\n",
      "  interactivity=interactivity, compiler=compiler, result=result)\n",
      "/Users/carolcheng/opt/anaconda3/lib/python3.7/site-packages/IPython/core/interactiveshell.py:3063: DtypeWarning: Columns (0,1,3,5,6,7,8,9,10,11,12,13,14,15,16,17,18,19,20,21,22,24,25,26,27,28,29,30,31,32,33,36,37,38,39,40,41,42,45,46,47,50,51,56,57,58,59) have mixed types.Specify dtype option on import or set low_memory=False.\n",
      "  interactivity=interactivity, compiler=compiler, result=result)\n"
     ]
    }
   ],
   "source": [
    "# read in raw data\n",
    "df_loneliness_sub = pd.read_csv(\"data/loneliness_submission_0921.csv\")\n",
    "df_lonely_sub = pd.read_csv(\"data/lonely_submission_0921.csv\")\n",
    "df_fa_sub = pd.read_csv(\"data/fa_submission_0921.csv\")\n",
    "df_isolation_sub = pd.read_csv(\"data/isolation_submission_0921.csv\")\n",
    "\n",
    "df_loneliness_com = pd.read_csv(\"data/loneliness_comments_0921.csv\")\n",
    "df_lonely_com = pd.read_csv(\"data/lonely_comments_0921.csv\")\n",
    "df_fa_com = pd.read_csv(\"data/fa_comments_0921.csv\")\n",
    "df_isolation_com = pd.read_csv(\"data/isolation_comments_0921.csv\")"
   ]
  },
  {
   "cell_type": "code",
   "execution_count": 7,
   "metadata": {},
   "outputs": [
    {
     "name": "stdout",
     "output_type": "stream",
     "text": [
      "all_awardings\tallow_live_comments\tauthor\tauthor_flair_css_class\tauthor_flair_richtext\tauthor_flair_text\tauthor_flair_type\tauthor_fullname\tauthor_is_blocked\tauthor_patreon_flair\tauthor_premium\tawarders\tcan_mod_post\tcontest_mode\tcreated_utc\tdomain\tfull_link\tgildings\tid\tis_created_from_ads_ui\tis_crosspostable\tis_meta\tis_original_content\tis_reddit_media_domain\tis_robot_indexable\tis_self\tis_video\tlink_flair_background_color\tlink_flair_richtext\tlink_flair_template_id\tlink_flair_text\tlink_flair_text_color\tlink_flair_type\tlocked\tmedia_only\tno_follow\tnum_comments\tnum_crossposts\tover_18\tparent_whitelist_status\tpermalink\tpinned\tpwls\tretrieved_on\tscore\tselftext\tsend_replies\tspoiler\tstickied\tsubreddit\tsubreddit_id\tsubreddit_subscribers\tsubreddit_type\tthumbnail\ttitle\ttotal_awards_received\ttreatment_tags\tupvote_ratio\turl\twhitelist_status\twls\tpost_hint\tpreview\tremoved_by_category\tauthor_flair_background_color\tauthor_flair_text_color\tbanned_by\tauthor_cakeday\tedited\tgilded\tdistinguished\tsteward_reports\tcrosspost_parent\tcrosspost_parent_list\tthumbnail_height\tthumbnail_width\tremoved_by\tupdated_utc\tog_description\tog_title\tauthor_flair_template_id\tarchived\tauthor_created_utc\tcan_gild\tcategory\tcontent_categories\thidden\tlink_flair_css_class\tmedia\tmedia_embed\tquarantine\tremoval_reason\tsecure_media\tsecure_media_embed\tsubreddit_name_prefixed\tsuggested_sort\trte_mode\tauthor_id\tbrand_safe\tapproved_at_utc\tbanned_at_utc\tview_count\n"
     ]
    }
   ],
   "source": [
    "print(*df_lonely_sub.columns, sep = \"\\t\")"
   ]
  },
  {
   "cell_type": "markdown",
   "metadata": {},
   "source": [
    "## Submission"
   ]
  },
  {
   "cell_type": "code",
   "execution_count": 53,
   "metadata": {},
   "outputs": [
    {
     "name": "stdout",
     "output_type": "stream",
     "text": [
      "creating  clean-data/lonely_sub_clean_0921.csv\n",
      "(115365, 15)\n",
      "(110937, 15)\n"
     ]
    },
    {
     "name": "stderr",
     "output_type": "stream",
     "text": [
      "/Users/carolcheng/opt/anaconda3/lib/python3.7/site-packages/ipykernel_launcher.py:25: SettingWithCopyWarning: \n",
      "A value is trying to be set on a copy of a slice from a DataFrame\n",
      "\n",
      "See the caveats in the documentation: https://pandas.pydata.org/pandas-docs/stable/user_guide/indexing.html#returning-a-view-versus-a-copy\n"
     ]
    },
    {
     "name": "stdout",
     "output_type": "stream",
     "text": [
      "creating  clean-data/loneliness_sub_clean_0921.csv\n",
      "(4213, 15)\n",
      "(3964, 15)\n",
      "creating  clean-data/ForeverAlone_sub_clean_0921.csv\n",
      "(118118, 15)\n",
      "(97254, 15)\n",
      "creating  clean-data/isolation_sub_clean_0921.csv\n",
      "(141, 15)\n",
      "(74, 15)\n"
     ]
    }
   ],
   "source": [
    "name_lst = [\"lonely\", \"loneliness\", \"ForeverAlone\", \"isolation\"]\n",
    "sub_lst = [df_lonely_sub, df_loneliness_sub, df_fa_sub, df_isolation_sub]\n",
    "\n",
    "for i, df in enumerate(sub_lst):\n",
    "    file_name = \"clean-data/{}_sub_clean_0921.csv\".format(name_lst[i])\n",
    "    print(\"creating \", file_name)\n",
    "    df_sub_clean_with_empty = df[['subreddit',\n",
    "                                  'created_utc',\n",
    "                                  'id',\n",
    "                                  'title',\n",
    "                                  'author',\n",
    "                                  'author_fullname',\n",
    "                                  'num_comments',\n",
    "                                  'upvote_ratio',\n",
    "                                  'num_crossposts',\n",
    "                                  #'link_flair_text',\n",
    "                                  'over_18',\n",
    "                                  'total_awards_received',\n",
    "                                  'selftext',\n",
    "                                  'domain',\n",
    "                                  'full_link',\n",
    "                                  'permalink']]\n",
    "    print(df_sub_clean_with_empty.shape)\n",
    "    df_sub_clean_with_empty['selftext'].replace('',np.nan,inplace=True)\n",
    "    df_sub_clean_with_empty.dropna(subset=['selftext'],inplace=True) # drop empty content\n",
    "    print(df_sub_clean_with_empty.shape)\n",
    "    df_sub_clean_with_empty.to_csv(file_name,index=False)"
   ]
  },
  {
   "cell_type": "markdown",
   "metadata": {},
   "source": [
    "## comments"
   ]
  },
  {
   "cell_type": "code",
   "execution_count": 60,
   "metadata": {},
   "outputs": [
    {
     "name": "stdout",
     "output_type": "stream",
     "text": [
      "creating  clean-data/lonely_com_clean_0921.csv\n",
      "(752382, 12)\n"
     ]
    },
    {
     "name": "stderr",
     "output_type": "stream",
     "text": [
      "/Users/carolcheng/opt/anaconda3/lib/python3.7/site-packages/ipykernel_launcher.py:23: SettingWithCopyWarning: \n",
      "A value is trying to be set on a copy of a slice from a DataFrame\n",
      "\n",
      "See the caveats in the documentation: https://pandas.pydata.org/pandas-docs/stable/user_guide/indexing.html#returning-a-view-versus-a-copy\n"
     ]
    },
    {
     "name": "stdout",
     "output_type": "stream",
     "text": [
      "(738710, 12)\n",
      "creating  clean-data/loneliness_com_clean_0921.csv\n",
      "(21909, 12)\n",
      "(21909, 12)\n",
      "creating  clean-data/ForeverAlone_com_clean_0921.csv\n",
      "(2074640, 12)\n",
      "(2054757, 12)\n",
      "creating  clean-data/isolation_com_clean_0921.csv\n",
      "(187, 12)\n",
      "(187, 12)\n"
     ]
    }
   ],
   "source": [
    "name_lst = [\"lonely\", \"loneliness\", \"ForeverAlone\", \"isolation\"]\n",
    "com_lst = [df_lonely_com, df_loneliness_com, df_fa_com, df_isolation_com]\n",
    "\n",
    "for i, df in enumerate(com_lst):\n",
    "    file_name = \"clean-data/{}_com_clean_0921.csv\".format(name_lst[i])\n",
    "    print(\"creating \", file_name)\n",
    "    \n",
    "    df_com_clean_with_empty = df[['subreddit',\n",
    "         'created_utc',\n",
    "         'id',\n",
    "         'link_id',\n",
    "         'parent_id',\n",
    "         'author',\n",
    "         'author_fullname',\n",
    "         'body',\n",
    "         'collapsed',\n",
    "         'is_submitter',\n",
    "         'no_follow',\n",
    "         'permalink'\n",
    "        ]]\n",
    "    print(df_com_clean_with_empty.shape)\n",
    "    df_com_clean_with_empty['body'].replace('',np.nan,inplace=True)\n",
    "    df_com_clean_with_empty.dropna(subset=['body','created_utc'],inplace=True) # drop empty content\n",
    "    print(df_com_clean_with_empty.shape)\n",
    "    df_com_clean_with_empty.to_csv(file_name,index=False)"
   ]
  },
  {
   "cell_type": "code",
   "execution_count": 50,
   "metadata": {
    "scrolled": true
   },
   "outputs": [
    {
     "data": {
      "text/plain": [
       "Vent                   11603\n",
       "Advice Wanted           3346\n",
       "Success Story           1205\n",
       "Trigger Warning            9\n",
       "Trigger warning            1\n",
       "Successful Vent            1\n",
       "SPOILERS                   1\n",
       "not appropriate sub        1\n",
       "no content                 1\n",
       "Under 30? fuck off         1\n",
       "META                       1\n",
       "Incel Approved             1\n",
       "wrong subreddit            1\n",
       "Name: link_flair_text, dtype: int64"
      ]
     },
     "execution_count": 50,
     "metadata": {},
     "output_type": "execute_result"
    }
   ],
   "source": [
    "df_fa_sub['link_flair_text'].value_counts()"
   ]
  },
  {
   "cell_type": "code",
   "execution_count": null,
   "metadata": {},
   "outputs": [],
   "source": []
  },
  {
   "cell_type": "code",
   "execution_count": 48,
   "metadata": {},
   "outputs": [
    {
     "data": {
      "text/html": [
       "<div>\n",
       "<style scoped>\n",
       "    .dataframe tbody tr th:only-of-type {\n",
       "        vertical-align: middle;\n",
       "    }\n",
       "\n",
       "    .dataframe tbody tr th {\n",
       "        vertical-align: top;\n",
       "    }\n",
       "\n",
       "    .dataframe thead th {\n",
       "        text-align: right;\n",
       "    }\n",
       "</style>\n",
       "<table border=\"1\" class=\"dataframe\">\n",
       "  <thead>\n",
       "    <tr style=\"text-align: right;\">\n",
       "      <th></th>\n",
       "      <th>subreddit</th>\n",
       "      <th>created_utc</th>\n",
       "      <th>id</th>\n",
       "      <th>title</th>\n",
       "      <th>author</th>\n",
       "      <th>author_fullname</th>\n",
       "      <th>num_comments</th>\n",
       "      <th>upvote_ratio</th>\n",
       "      <th>num_crossposts</th>\n",
       "      <th>over_18</th>\n",
       "      <th>total_awards_received</th>\n",
       "      <th>selftext</th>\n",
       "      <th>domain</th>\n",
       "      <th>full_link</th>\n",
       "      <th>permalink</th>\n",
       "    </tr>\n",
       "  </thead>\n",
       "  <tbody>\n",
       "    <tr>\n",
       "      <th>1</th>\n",
       "      <td>loneliness</td>\n",
       "      <td>1632241037</td>\n",
       "      <td>psm2m7</td>\n",
       "      <td>My battle with depression and trying to stay a...</td>\n",
       "      <td>brokenandtired1</td>\n",
       "      <td>t2_8esl7btb</td>\n",
       "      <td>0</td>\n",
       "      <td>1.0</td>\n",
       "      <td>0.0</td>\n",
       "      <td>False</td>\n",
       "      <td>0.0</td>\n",
       "      <td>I don't know if this is allowed but I struggle...</td>\n",
       "      <td>self.loneliness</td>\n",
       "      <td>https://www.reddit.com/r/loneliness/comments/p...</td>\n",
       "      <td>/r/loneliness/comments/psm2m7/my_battle_with_d...</td>\n",
       "    </tr>\n",
       "    <tr>\n",
       "      <th>2</th>\n",
       "      <td>loneliness</td>\n",
       "      <td>1632104242</td>\n",
       "      <td>prln82</td>\n",
       "      <td>My Friends Don't Get Me</td>\n",
       "      <td>Felicino</td>\n",
       "      <td>t2_cjcbjdfs</td>\n",
       "      <td>0</td>\n",
       "      <td>1.0</td>\n",
       "      <td>0.0</td>\n",
       "      <td>False</td>\n",
       "      <td>0.0</td>\n",
       "      <td>Sometimes I think about getting rid of all of ...</td>\n",
       "      <td>self.loneliness</td>\n",
       "      <td>https://www.reddit.com/r/loneliness/comments/p...</td>\n",
       "      <td>/r/loneliness/comments/prln82/my_friends_dont_...</td>\n",
       "    </tr>\n",
       "    <tr>\n",
       "      <th>3</th>\n",
       "      <td>loneliness</td>\n",
       "      <td>1632094625</td>\n",
       "      <td>prj4ob</td>\n",
       "      <td>NO COST TELEHEALTH INTERVENTION FOR LONELINESS</td>\n",
       "      <td>utmindfulnessstudy</td>\n",
       "      <td>t2_6lrnthdr</td>\n",
       "      <td>0</td>\n",
       "      <td>1.0</td>\n",
       "      <td>0.0</td>\n",
       "      <td>False</td>\n",
       "      <td>0.0</td>\n",
       "      <td>Have you been struggling with feelings of lone...</td>\n",
       "      <td>self.loneliness</td>\n",
       "      <td>https://www.reddit.com/r/loneliness/comments/p...</td>\n",
       "      <td>/r/loneliness/comments/prj4ob/no_cost_teleheal...</td>\n",
       "    </tr>\n",
       "    <tr>\n",
       "      <th>4</th>\n",
       "      <td>loneliness</td>\n",
       "      <td>1632076962</td>\n",
       "      <td>prdryx</td>\n",
       "      <td>I am fucking tired of masturbation</td>\n",
       "      <td>Carlador</td>\n",
       "      <td>t2_66fi2rmu</td>\n",
       "      <td>10</td>\n",
       "      <td>1.0</td>\n",
       "      <td>0.0</td>\n",
       "      <td>False</td>\n",
       "      <td>0.0</td>\n",
       "      <td>You hop on your boat, find heaven and then eve...</td>\n",
       "      <td>self.loneliness</td>\n",
       "      <td>https://www.reddit.com/r/loneliness/comments/p...</td>\n",
       "      <td>/r/loneliness/comments/prdryx/i_am_fucking_tir...</td>\n",
       "    </tr>\n",
       "    <tr>\n",
       "      <th>5</th>\n",
       "      <td>loneliness</td>\n",
       "      <td>1632075670</td>\n",
       "      <td>prdczh</td>\n",
       "      <td>Curious about how your soulmate looks like? Tr...</td>\n",
       "      <td>Gusterul23</td>\n",
       "      <td>t2_16nfc8</td>\n",
       "      <td>4</td>\n",
       "      <td>1.0</td>\n",
       "      <td>0.0</td>\n",
       "      <td>False</td>\n",
       "      <td>0.0</td>\n",
       "      <td>Ever wondered how your soulmate looks like? Be...</td>\n",
       "      <td>self.loneliness</td>\n",
       "      <td>https://www.reddit.com/r/loneliness/comments/p...</td>\n",
       "      <td>/r/loneliness/comments/prdczh/curious_about_ho...</td>\n",
       "    </tr>\n",
       "  </tbody>\n",
       "</table>\n",
       "</div>"
      ],
      "text/plain": [
       "    subreddit  created_utc      id  \\\n",
       "1  loneliness   1632241037  psm2m7   \n",
       "2  loneliness   1632104242  prln82   \n",
       "3  loneliness   1632094625  prj4ob   \n",
       "4  loneliness   1632076962  prdryx   \n",
       "5  loneliness   1632075670  prdczh   \n",
       "\n",
       "                                               title              author  \\\n",
       "1  My battle with depression and trying to stay a...     brokenandtired1   \n",
       "2                            My Friends Don't Get Me            Felicino   \n",
       "3     NO COST TELEHEALTH INTERVENTION FOR LONELINESS  utmindfulnessstudy   \n",
       "4                 I am fucking tired of masturbation            Carlador   \n",
       "5  Curious about how your soulmate looks like? Tr...          Gusterul23   \n",
       "\n",
       "  author_fullname  num_comments  upvote_ratio  num_crossposts  over_18  \\\n",
       "1     t2_8esl7btb             0           1.0             0.0    False   \n",
       "2     t2_cjcbjdfs             0           1.0             0.0    False   \n",
       "3     t2_6lrnthdr             0           1.0             0.0    False   \n",
       "4     t2_66fi2rmu            10           1.0             0.0    False   \n",
       "5       t2_16nfc8             4           1.0             0.0    False   \n",
       "\n",
       "   total_awards_received                                           selftext  \\\n",
       "1                    0.0  I don't know if this is allowed but I struggle...   \n",
       "2                    0.0  Sometimes I think about getting rid of all of ...   \n",
       "3                    0.0  Have you been struggling with feelings of lone...   \n",
       "4                    0.0  You hop on your boat, find heaven and then eve...   \n",
       "5                    0.0  Ever wondered how your soulmate looks like? Be...   \n",
       "\n",
       "            domain                                          full_link  \\\n",
       "1  self.loneliness  https://www.reddit.com/r/loneliness/comments/p...   \n",
       "2  self.loneliness  https://www.reddit.com/r/loneliness/comments/p...   \n",
       "3  self.loneliness  https://www.reddit.com/r/loneliness/comments/p...   \n",
       "4  self.loneliness  https://www.reddit.com/r/loneliness/comments/p...   \n",
       "5  self.loneliness  https://www.reddit.com/r/loneliness/comments/p...   \n",
       "\n",
       "                                           permalink  \n",
       "1  /r/loneliness/comments/psm2m7/my_battle_with_d...  \n",
       "2  /r/loneliness/comments/prln82/my_friends_dont_...  \n",
       "3  /r/loneliness/comments/prj4ob/no_cost_teleheal...  \n",
       "4  /r/loneliness/comments/prdryx/i_am_fucking_tir...  \n",
       "5  /r/loneliness/comments/prdczh/curious_about_ho...  "
      ]
     },
     "execution_count": 48,
     "metadata": {},
     "output_type": "execute_result"
    }
   ],
   "source": [
    "df_sub_clean_with_empty.head()"
   ]
  },
  {
   "cell_type": "code",
   "execution_count": null,
   "metadata": {},
   "outputs": [],
   "source": []
  }
 ],
 "metadata": {
  "kernelspec": {
   "display_name": "Python 3",
   "language": "python",
   "name": "python3"
  },
  "language_info": {
   "codemirror_mode": {
    "name": "ipython",
    "version": 3
   },
   "file_extension": ".py",
   "mimetype": "text/x-python",
   "name": "python",
   "nbconvert_exporter": "python",
   "pygments_lexer": "ipython3",
   "version": "3.7.4"
  }
 },
 "nbformat": 4,
 "nbformat_minor": 4
}
